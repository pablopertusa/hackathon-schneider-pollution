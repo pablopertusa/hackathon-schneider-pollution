{
 "cells": [
  {
   "cell_type": "code",
   "execution_count": 18,
   "metadata": {},
   "outputs": [],
   "source": [
    "import polars as pl"
   ]
  },
  {
   "cell_type": "code",
   "execution_count": 19,
   "metadata": {},
   "outputs": [],
   "source": [
    "pollutant = pl.read_csv(\"../../data/raw/pollutant_data.csv\")\n",
    "measurement = pl.read_csv(\"../../data/raw/measurement_data.csv\")\n",
    "instrument = pl.read_csv(\"../../data/raw/instrument_data.csv\")"
   ]
  },
  {
   "cell_type": "code",
   "execution_count": 20,
   "metadata": {},
   "outputs": [],
   "source": [
    "questions = {\n",
    "    \"target\": {\n",
    "    }\n",
    "}"
   ]
  },
  {
   "cell_type": "code",
   "execution_count": 21,
   "metadata": {},
   "outputs": [],
   "source": [
    "measurement = measurement.join(instrument, on=[\"Measurement date\", \"Station code\"])\n",
    "normal = measurement.filter(pl.col(\"Instrument status\") == 0)"
   ]
  },
  {
   "cell_type": "markdown",
   "metadata": {},
   "source": [
    "## Question 1"
   ]
  },
  {
   "cell_type": "code",
   "execution_count": 22,
   "metadata": {},
   "outputs": [],
   "source": [
    "normal = (\n",
    "    normal\n",
    "    .with_columns(\n",
    "        pl.col(\"Measurement date\").str.to_datetime()\n",
    "    )\n",
    "    .with_columns(\n",
    "        pl.col(\"Measurement date\").dt.day().alias(\"day\"),\n",
    "        pl.col(\"Measurement date\").dt.month().alias(\"month\"),\n",
    "        pl.col(\"Measurement date\").dt.year().alias(\"year\"),\n",
    "    )\n",
    ")"
   ]
  },
  {
   "cell_type": "code",
   "execution_count": 23,
   "metadata": {},
   "outputs": [],
   "source": [
    "q1 = (\n",
    "    normal\n",
    "    .group_by([\"year\", \"month\", \"day\"])\n",
    "    .agg(pl.mean(\"SO2\"))\n",
    "    .select(\"SO2\")\n",
    "    .mean()\n",
    ")\n",
    "response_q1 = q1[\"SO2\"].to_list()[0]\n",
    "questions[\"target\"][\"Q1\"] = round(response_q1, 5)"
   ]
  },
  {
   "cell_type": "markdown",
   "metadata": {},
   "source": [
    "## Question 2"
   ]
  },
  {
   "cell_type": "code",
   "execution_count": 24,
   "metadata": {},
   "outputs": [],
   "source": [
    "def get_season(date):\n",
    "    month = date.month\n",
    "    if month in [12, 1, 2]:\n",
    "        return 1\n",
    "    elif month in [3, 4, 5]:\n",
    "        return 2\n",
    "    elif month in [6, 7, 8]:\n",
    "        return 3\n",
    "    else:\n",
    "        return 4"
   ]
  },
  {
   "cell_type": "code",
   "execution_count": 25,
   "metadata": {},
   "outputs": [],
   "source": [
    "q2 = (\n",
    "    normal\n",
    "    .filter(pl.col(\"Station code\") == 209)\n",
    "    .with_columns(\n",
    "        pl.col(\"Measurement date\").map_elements(get_season, return_dtype=pl.Int64).alias(\"season\")\n",
    "    )\n",
    "    .group_by(\"season\")\n",
    "    .agg(pl.col(\"CO\").mean())\n",
    ")\n",
    "season_1 = q2.filter(pl.col(\"season\") == 1)[\"CO\"].to_list()[0]\n",
    "season_2 = q2.filter(pl.col(\"season\") == 2)[\"CO\"].to_list()[0]\n",
    "season_3 = q2.filter(pl.col(\"season\") == 3)[\"CO\"].to_list()[0]\n",
    "season_4 = q2.filter(pl.col(\"season\") == 4)[\"CO\"].to_list()[0]\n",
    "questions[\"target\"][\"Q2\"] = {\n",
    "    \"1\" : round(season_1, 5),\n",
    "    \"2\" : round(season_2, 5),\n",
    "    \"3\" : round(season_3, 5),\n",
    "    \"4\" : round(season_4, 5)\n",
    "}"
   ]
  },
  {
   "cell_type": "markdown",
   "metadata": {},
   "source": [
    "## Question 3"
   ]
  },
  {
   "cell_type": "code",
   "execution_count": 26,
   "metadata": {},
   "outputs": [],
   "source": [
    "normal = (\n",
    "    normal\n",
    "   .with_columns(\n",
    "        pl.col(\"Measurement date\").dt.hour().alias(\"hour\")\n",
    "    )\n",
    ")\n",
    "\n",
    "std_per_hour = (\n",
    "    normal\n",
    "    .group_by(\"hour\")\n",
    "    .agg(pl.col(\"O3\").std().alias(\"std_O3\"))\n",
    "    .sort(\"std_O3\", descending=True)\n",
    "    .head(1)\n",
    ")\n",
    "\n",
    "response_3 = std_per_hour[\"hour\"].to_list()[0]\n",
    "questions[\"target\"][\"Q3\"] = round(response_3, 5)"
   ]
  },
  {
   "cell_type": "markdown",
   "metadata": {},
   "source": [
    "## Question 4"
   ]
  },
  {
   "cell_type": "code",
   "execution_count": 27,
   "metadata": {},
   "outputs": [],
   "source": [
    "abnormal = (\n",
    "    measurement\n",
    "    .filter(pl.col(\"Instrument status\") == 2)\n",
    ")\n",
    "q4 = (\n",
    "    abnormal\n",
    "    .group_by(\"Station code\")\n",
    "    .agg(pl.len().alias(\"n_measurements\"))\n",
    "    .sort(by = \"n_measurements\", descending=True)\n",
    "    .head(1)\n",
    ")\n",
    "response_4 = q4[\"Station code\"].to_list()[0]\n",
    "questions[\"target\"][\"Q4\"] = round(response_4, 5)"
   ]
  },
  {
   "cell_type": "markdown",
   "metadata": {},
   "source": [
    "## Question 5"
   ]
  },
  {
   "cell_type": "code",
   "execution_count": 28,
   "metadata": {},
   "outputs": [],
   "source": [
    "not_abnormal = (\n",
    "    measurement\n",
    "    .filter(pl.col(\"Instrument status\") != 0)\n",
    ")\n",
    "\n",
    "q5 = (\n",
    "    not_abnormal\n",
    "    .group_by(\"Station code\")\n",
    "    .agg(pl.len().alias(\"n_measurements\"))\n",
    "    .sort(by = \"n_measurements\", descending=True)\n",
    "    .head(1)\n",
    ")\n",
    "response_5 = q5[\"Station code\"].to_list()[0]\n",
    "questions[\"target\"][\"Q5\"] = round(response_5, 5)"
   ]
  },
  {
   "cell_type": "markdown",
   "metadata": {},
   "source": [
    "## Question 6"
   ]
  },
  {
   "cell_type": "code",
   "execution_count": 29,
   "metadata": {},
   "outputs": [
    {
     "data": {
      "text/html": [
       "<div><style>\n",
       ".dataframe > thead > tr,\n",
       ".dataframe > tbody > tr {\n",
       "  text-align: right;\n",
       "  white-space: pre-wrap;\n",
       "}\n",
       "</style>\n",
       "<small>shape: (6, 7)</small><table border=\"1\" class=\"dataframe\"><thead><tr><th>Item code</th><th>Item name</th><th>Unit of measurement</th><th>Good</th><th>Normal</th><th>Bad</th><th>Very bad</th></tr><tr><td>i64</td><td>str</td><td>str</td><td>f64</td><td>f64</td><td>f64</td><td>f64</td></tr></thead><tbody><tr><td>0</td><td>&quot;SO2&quot;</td><td>&quot;ppm&quot;</td><td>0.02</td><td>0.05</td><td>0.15</td><td>1.0</td></tr><tr><td>2</td><td>&quot;NO2&quot;</td><td>&quot;ppm&quot;</td><td>0.03</td><td>0.06</td><td>0.2</td><td>2.0</td></tr><tr><td>4</td><td>&quot;CO&quot;</td><td>&quot;ppm&quot;</td><td>2.0</td><td>9.0</td><td>15.0</td><td>50.0</td></tr><tr><td>5</td><td>&quot;O3&quot;</td><td>&quot;ppm&quot;</td><td>0.03</td><td>0.09</td><td>0.15</td><td>0.5</td></tr><tr><td>7</td><td>&quot;PM10&quot;</td><td>&quot;Mircrogram/m3&quot;</td><td>30.0</td><td>80.0</td><td>150.0</td><td>600.0</td></tr><tr><td>8</td><td>&quot;PM2.5&quot;</td><td>&quot;Mircrogram/m3&quot;</td><td>15.0</td><td>35.0</td><td>75.0</td><td>500.0</td></tr></tbody></table></div>"
      ],
      "text/plain": [
       "shape: (6, 7)\n",
       "┌───────────┬───────────┬─────────────────────┬──────┬────────┬───────┬──────────┐\n",
       "│ Item code ┆ Item name ┆ Unit of measurement ┆ Good ┆ Normal ┆ Bad   ┆ Very bad │\n",
       "│ ---       ┆ ---       ┆ ---                 ┆ ---  ┆ ---    ┆ ---   ┆ ---      │\n",
       "│ i64       ┆ str       ┆ str                 ┆ f64  ┆ f64    ┆ f64   ┆ f64      │\n",
       "╞═══════════╪═══════════╪═════════════════════╪══════╪════════╪═══════╪══════════╡\n",
       "│ 0         ┆ SO2       ┆ ppm                 ┆ 0.02 ┆ 0.05   ┆ 0.15  ┆ 1.0      │\n",
       "│ 2         ┆ NO2       ┆ ppm                 ┆ 0.03 ┆ 0.06   ┆ 0.2   ┆ 2.0      │\n",
       "│ 4         ┆ CO        ┆ ppm                 ┆ 2.0  ┆ 9.0    ┆ 15.0  ┆ 50.0     │\n",
       "│ 5         ┆ O3        ┆ ppm                 ┆ 0.03 ┆ 0.09   ┆ 0.15  ┆ 0.5      │\n",
       "│ 7         ┆ PM10      ┆ Mircrogram/m3       ┆ 30.0 ┆ 80.0   ┆ 150.0 ┆ 600.0    │\n",
       "│ 8         ┆ PM2.5     ┆ Mircrogram/m3       ┆ 15.0 ┆ 35.0   ┆ 75.0  ┆ 500.0    │\n",
       "└───────────┴───────────┴─────────────────────┴──────┴────────┴───────┴──────────┘"
      ]
     },
     "execution_count": 29,
     "metadata": {},
     "output_type": "execute_result"
    }
   ],
   "source": [
    "pollutant"
   ]
  },
  {
   "cell_type": "code",
   "execution_count": 30,
   "metadata": {},
   "outputs": [],
   "source": [
    "def obtain_label(measurement: float, very_bad: float, bad: float, normal: float):\n",
    "    if measurement >= very_bad:\n",
    "        return \"Very bad\"\n",
    "    elif  measurement >= bad:\n",
    "        return \"Bad\"\n",
    "    elif  measurement >= normal:\n",
    "        return \"Normal\"\n",
    "    else:\n",
    "        return \"Good\"\n",
    "aux = pollutant.filter(pl.col(\"Item name\") == \"PM2.5\")\n",
    "very_bad = aux[\"Very bad\"].to_list()[0]\n",
    "bad = aux[\"Bad\"].to_list()[0]\n",
    "normal_m = aux[\"Normal\"].to_list()[0]\n",
    "\n",
    "q6 = (\n",
    "    normal\n",
    "    .with_columns(\n",
    "        pl.col(\"PM2.5\").map_elements(lambda x: obtain_label(x, very_bad, bad, normal_m), return_dtype=pl.String).alias(\"Label_PM2.5\")\n",
    "    )\n",
    ")\n",
    "\n",
    "q6 = (\n",
    "    q6\n",
    "    .group_by(\"Label_PM2.5\")\n",
    "    .agg(pl.len().alias(\"N_measurements_PM2.5\"))\n",
    ")\n",
    "\n",
    "questions[\"target\"][\"Q6\"] = {\n",
    "    \"Normal\" : q6.filter(pl.col(\"Label_PM2.5\") == \"Normal\")[\"N_measurements_PM2.5\"].to_list()[0],\n",
    "    \"Bad\" : q6.filter(pl.col(\"Label_PM2.5\") == \"Bad\")[\"N_measurements_PM2.5\"].to_list()[0],\n",
    "    \"Very bad\" : q6.filter(pl.col(\"Label_PM2.5\") == \"Very bad\")[\"N_measurements_PM2.5\"].to_list()[0],\n",
    "    \"Good\" : q6.filter(pl.col(\"Label_PM2.5\") == \"Good\")[\"N_measurements_PM2.5\"].to_list()[0]\n",
    "}"
   ]
  },
  {
   "cell_type": "markdown",
   "metadata": {},
   "source": [
    "## Write the answers"
   ]
  },
  {
   "cell_type": "code",
   "execution_count": 31,
   "metadata": {},
   "outputs": [],
   "source": [
    "import json\n",
    "with open(\"../../predictions/questions.json\", \"w\") as file:\n",
    "    json.dump(questions, file)"
   ]
  }
 ],
 "metadata": {
  "kernelspec": {
   "display_name": "ds",
   "language": "python",
   "name": "python3"
  },
  "language_info": {
   "codemirror_mode": {
    "name": "ipython",
    "version": 3
   },
   "file_extension": ".py",
   "mimetype": "text/x-python",
   "name": "python",
   "nbconvert_exporter": "python",
   "pygments_lexer": "ipython3",
   "version": "3.9.21"
  }
 },
 "nbformat": 4,
 "nbformat_minor": 2
}
