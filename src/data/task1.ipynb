{
 "cells": [
  {
   "cell_type": "code",
   "execution_count": 76,
   "metadata": {},
   "outputs": [],
   "source": [
    "import polars as pl"
   ]
  },
  {
   "cell_type": "code",
   "execution_count": 77,
   "metadata": {},
   "outputs": [],
   "source": [
    "pollutant = pl.read_csv(\"../../data/raw/pollutant_data.csv\")\n",
    "measurement = pl.read_csv(\"../../data/raw/measurement_data.csv\")\n",
    "instrument = pl.read_csv(\"../../data/raw/instrument_data.csv\")"
   ]
  },
  {
   "cell_type": "code",
   "execution_count": 78,
   "metadata": {},
   "outputs": [],
   "source": [
    "questions = {\n",
    "    \"target\": {\n",
    "    }\n",
    "}"
   ]
  },
  {
   "cell_type": "code",
   "execution_count": 79,
   "metadata": {},
   "outputs": [],
   "source": [
    "measurement = measurement.join(instrument, on=[\"Measurement date\", \"Station code\"], how=\"inner\")\n",
    "normal = measurement.filter(pl.col(\"Instrument status\") == 0)"
   ]
  },
  {
   "cell_type": "markdown",
   "metadata": {},
   "source": [
    "## Question 1"
   ]
  },
  {
   "cell_type": "code",
   "execution_count": 80,
   "metadata": {},
   "outputs": [],
   "source": [
    "normal = (\n",
    "    normal\n",
    "    .with_columns(\n",
    "        pl.col(\"Measurement date\").str.to_datetime()\n",
    "    )\n",
    "    .with_columns(\n",
    "        pl.col(\"Measurement date\").dt.day().alias(\"day\"),\n",
    "        pl.col(\"Measurement date\").dt.month().alias(\"month\"),\n",
    "        pl.col(\"Measurement date\").dt.year().alias(\"year\"),\n",
    "        pl.col(\"Measurement date\").dt.hour().alias(\"hour\"),\n",
    "    )\n",
    ")"
   ]
  },
  {
   "cell_type": "code",
   "execution_count": 81,
   "metadata": {},
   "outputs": [],
   "source": [
    "q1 = (\n",
    "    normal\n",
    "    .filter(pl.col(\"Item code\") == 0)\n",
    "    .select(\"Average value\")\n",
    "    .mean()\n",
    ")"
   ]
  },
  {
   "cell_type": "code",
   "execution_count": 82,
   "metadata": {},
   "outputs": [],
   "source": [
    "response_q1 = q1[\"Average value\"].to_list()[0]\n",
    "questions[\"target\"][\"Q1\"] = round(response_q1, 5)"
   ]
  },
  {
   "cell_type": "markdown",
   "metadata": {},
   "source": [
    "## Question 2"
   ]
  },
  {
   "cell_type": "code",
   "execution_count": 83,
   "metadata": {},
   "outputs": [],
   "source": [
    "def get_season(date):\n",
    "    month = date.month\n",
    "    if month in [12, 1, 2]:\n",
    "        return 1\n",
    "    elif month in [3, 4, 5]:\n",
    "        return 2\n",
    "    elif month in [6, 7, 8]:\n",
    "        return 3\n",
    "    else:\n",
    "        return 4"
   ]
  },
  {
   "cell_type": "code",
   "execution_count": 84,
   "metadata": {},
   "outputs": [],
   "source": [
    "q2 = (\n",
    "    normal\n",
    "    .filter(pl.col(\"Item code\") == 4)\n",
    "    .filter(pl.col(\"Station code\") == 209)\n",
    "    .with_columns(\n",
    "        pl.col(\"Measurement date\").map_elements(get_season, return_dtype=pl.Int64).alias(\"season\")\n",
    "    )\n",
    "    .group_by(\"season\")\n",
    "    .agg(pl.col(\"Average value\").mean())\n",
    ")\n",
    "season_1 = q2.filter(pl.col(\"season\") == 1)[\"Average value\"].to_list()[0]\n",
    "season_2 = q2.filter(pl.col(\"season\") == 2)[\"Average value\"].to_list()[0]\n",
    "season_3 = q2.filter(pl.col(\"season\") == 3)[\"Average value\"].to_list()[0]\n",
    "season_4 = q2.filter(pl.col(\"season\") == 4)[\"Average value\"].to_list()[0]\n",
    "questions[\"target\"][\"Q2\"] = {\n",
    "    \"1\" : round(season_1, 5),\n",
    "    \"2\" : round(season_2, 5),\n",
    "    \"3\" : round(season_3, 5),\n",
    "    \"4\" : round(season_4, 5)\n",
    "}"
   ]
  },
  {
   "cell_type": "markdown",
   "metadata": {},
   "source": [
    "## Question 3"
   ]
  },
  {
   "cell_type": "code",
   "execution_count": 85,
   "metadata": {},
   "outputs": [],
   "source": [
    "std_per_hour = (\n",
    "    normal\n",
    "    .filter(pl.col(\"Item code\") == 5)\n",
    "    .group_by(\"hour\")\n",
    "    .agg(pl.col(\"Average value\").std().alias(\"std_O3\"))\n",
    "    .sort(\"std_O3\", descending=True)\n",
    "    .head(1)\n",
    ")\n",
    "\n",
    "response_3 = std_per_hour[\"hour\"].to_list()[0]\n",
    "questions[\"target\"][\"Q3\"] = round(response_3, 5)"
   ]
  },
  {
   "cell_type": "markdown",
   "metadata": {},
   "source": [
    "## Question 4"
   ]
  },
  {
   "cell_type": "code",
   "execution_count": 86,
   "metadata": {},
   "outputs": [],
   "source": [
    "abnormal = (\n",
    "    measurement\n",
    "    .filter(pl.col(\"Instrument status\") == 9)\n",
    ")\n",
    "q4 = (\n",
    "    abnormal\n",
    "    .group_by(\"Station code\")\n",
    "    .agg(pl.len().alias(\"n_measurements\"))\n",
    "    .sort(by = \"n_measurements\", descending=True)\n",
    "    .head(1)\n",
    ")\n",
    "response_4 = q4[\"Station code\"].to_list()[0]\n",
    "questions[\"target\"][\"Q4\"] = round(response_4, 5)"
   ]
  },
  {
   "cell_type": "markdown",
   "metadata": {},
   "source": [
    "## Question 5"
   ]
  },
  {
   "cell_type": "code",
   "execution_count": 87,
   "metadata": {},
   "outputs": [],
   "source": [
    "not_abnormal = (\n",
    "    measurement\n",
    "    .filter(pl.col(\"Instrument status\") != 0)\n",
    ")\n",
    "\n",
    "q5 = (\n",
    "    not_abnormal\n",
    "    .group_by(\"Station code\")\n",
    "    .agg(pl.len().alias(\"n_measurements\"))\n",
    "    .sort(by = \"n_measurements\", descending=True)\n",
    "    .head(1)\n",
    ")\n",
    "response_5 = q5[\"Station code\"].to_list()[0]\n",
    "questions[\"target\"][\"Q5\"] = round(response_5, 5)"
   ]
  },
  {
   "cell_type": "markdown",
   "metadata": {},
   "source": [
    "## Question 6"
   ]
  },
  {
   "cell_type": "code",
   "execution_count": 88,
   "metadata": {},
   "outputs": [],
   "source": [
    "def obtain_label(measurement: float, very_bad: float, bad: float, normal: float):\n",
    "    if measurement >= very_bad:\n",
    "        return \"Very bad\"\n",
    "    elif  measurement >= bad:\n",
    "        return \"Bad\"\n",
    "    elif  measurement >= normal:\n",
    "        return \"Normal\"\n",
    "    else:\n",
    "        return \"Good\"\n",
    "\n",
    "aux = pollutant.filter(pl.col(\"Item name\") == \"PM2.5\")\n",
    "very_bad = aux[\"Very bad\"].to_list()[0]\n",
    "bad = aux[\"Bad\"].to_list()[0]\n",
    "normal_m = aux[\"Normal\"].to_list()[0]\n",
    "\n",
    "q6 = (\n",
    "    normal\n",
    "    .filter(pl.col(\"Item code\") == 8)\n",
    "    .with_columns(\n",
    "        pl.col(\"Average value\").map_elements(lambda x: obtain_label(x, very_bad, bad, normal_m), return_dtype=pl.String).alias(\"Label_PM2.5\")\n",
    "    )\n",
    ")\n",
    "\n",
    "q6 = (\n",
    "    q6\n",
    "    .group_by(\"Label_PM2.5\")\n",
    "    .agg(pl.len().alias(\"N_measurements_PM2.5\"))\n",
    ")\n",
    "\n",
    "questions[\"target\"][\"Q6\"] = {\n",
    "    \"Normal\" : q6.filter(pl.col(\"Label_PM2.5\") == \"Normal\")[\"N_measurements_PM2.5\"].to_list()[0] if len(q6.filter(pl.col(\"Label_PM2.5\") == \"Normal\")[\"N_measurements_PM2.5\"].to_list()) != 0 else 0,\n",
    "    \"Bad\" : q6.filter(pl.col(\"Label_PM2.5\") == \"Bad\")[\"N_measurements_PM2.5\"].to_list()[0] if len(q6.filter(pl.col(\"Label_PM2.5\") == \"Bad\")[\"N_measurements_PM2.5\"].to_list()) != 0 else 0,\n",
    "    \"Very bad\" : q6.filter(pl.col(\"Label_PM2.5\") == \"Very bad\")[\"N_measurements_PM2.5\"].to_list()[0] if len(q6.filter(pl.col(\"Label_PM2.5\") == \"Very bad\")[\"N_measurements_PM2.5\"].to_list()) != 0 else 0,\n",
    "    \"Good\" : q6.filter(pl.col(\"Label_PM2.5\") == \"Good\")[\"N_measurements_PM2.5\"].to_list()[0] if len(q6.filter(pl.col(\"Label_PM2.5\") == \"Good\")[\"N_measurements_PM2.5\"].to_list()) != 0 else 0\n",
    "}"
   ]
  },
  {
   "cell_type": "markdown",
   "metadata": {},
   "source": [
    "## Write the answers"
   ]
  },
  {
   "cell_type": "code",
   "execution_count": 90,
   "metadata": {},
   "outputs": [],
   "source": [
    "import json\n",
    "with open(\"../../predictions/questions.json\", \"w\") as file:\n",
    "    json.dump(questions, file)"
   ]
  }
 ],
 "metadata": {
  "kernelspec": {
   "display_name": "ds",
   "language": "python",
   "name": "python3"
  },
  "language_info": {
   "codemirror_mode": {
    "name": "ipython",
    "version": 3
   },
   "file_extension": ".py",
   "mimetype": "text/x-python",
   "name": "python",
   "nbconvert_exporter": "python",
   "pygments_lexer": "ipython3",
   "version": "3.9.21"
  }
 },
 "nbformat": 4,
 "nbformat_minor": 2
}
