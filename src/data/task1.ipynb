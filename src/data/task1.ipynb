{
 "cells": [
  {
   "cell_type": "code",
   "execution_count": 70,
   "metadata": {},
   "outputs": [],
   "source": [
    "import polars as pl"
   ]
  },
  {
   "cell_type": "code",
   "execution_count": 71,
   "metadata": {},
   "outputs": [],
   "source": [
    "pollutant = pl.read_csv(\"../../data/raw/pollutant_data.csv\")\n",
    "measurement = pl.read_csv(\"../../data/raw/measurement_data.csv\")\n",
    "instrument = pl.read_csv(\"../../data/raw/instrument_data.csv\")"
   ]
  },
  {
   "cell_type": "code",
   "execution_count": 72,
   "metadata": {},
   "outputs": [],
   "source": [
    "questions = {\n",
    "    \"target\": {\n",
    "    }\n",
    "}"
   ]
  },
  {
   "cell_type": "code",
   "execution_count": 73,
   "metadata": {},
   "outputs": [],
   "source": [
    "measurement = measurement.join(instrument, on=[\"Measurement date\", \"Station code\"], how=\"left\")\n",
    "normal = measurement.filter(pl.col(\"Instrument status\") == 0)"
   ]
  },
  {
   "cell_type": "code",
   "execution_count": 74,
   "metadata": {},
   "outputs": [
    {
     "data": {
      "text/html": [
       "<div><style>\n",
       ".dataframe > thead > tr,\n",
       ".dataframe > tbody > tr {\n",
       "  text-align: right;\n",
       "  white-space: pre-wrap;\n",
       "}\n",
       "</style>\n",
       "<small>shape: (25_905, 13)</small><table border=\"1\" class=\"dataframe\"><thead><tr><th>Measurement date</th><th>Station code</th><th>Latitude</th><th>Longitude</th><th>SO2</th><th>NO2</th><th>O3</th><th>CO</th><th>PM10</th><th>PM2.5</th><th>Item code</th><th>Average value</th><th>Instrument status</th></tr><tr><td>str</td><td>i64</td><td>f64</td><td>f64</td><td>f64</td><td>f64</td><td>f64</td><td>f64</td><td>f64</td><td>f64</td><td>i64</td><td>f64</td><td>i64</td></tr></thead><tbody><tr><td>&quot;2021-01-01 00:00:00&quot;</td><td>204</td><td>37.572016</td><td>127.005008</td><td>0.004</td><td>0.059</td><td>0.002</td><td>1.2</td><td>73.0</td><td>57.0</td><td>0</td><td>0.004</td><td>0</td></tr><tr><td>&quot;2021-01-01 01:00:00&quot;</td><td>204</td><td>37.572016</td><td>127.005008</td><td>0.004</td><td>0.058</td><td>0.002</td><td>1.2</td><td>71.0</td><td>59.0</td><td>0</td><td>0.004</td><td>0</td></tr><tr><td>&quot;2021-01-01 02:00:00&quot;</td><td>204</td><td>37.572016</td><td>127.005008</td><td>0.004</td><td>0.056</td><td>0.002</td><td>1.2</td><td>70.0</td><td>59.0</td><td>0</td><td>0.004</td><td>0</td></tr><tr><td>&quot;2021-01-01 03:00:00&quot;</td><td>204</td><td>37.572016</td><td>127.005008</td><td>0.004</td><td>0.056</td><td>0.002</td><td>1.2</td><td>70.0</td><td>58.0</td><td>0</td><td>0.004</td><td>0</td></tr><tr><td>&quot;2021-01-01 04:00:00&quot;</td><td>204</td><td>37.572016</td><td>127.005008</td><td>0.003</td><td>0.051</td><td>0.002</td><td>1.2</td><td>69.0</td><td>61.0</td><td>0</td><td>0.003</td><td>0</td></tr><tr><td>&hellip;</td><td>&hellip;</td><td>&hellip;</td><td>&hellip;</td><td>&hellip;</td><td>&hellip;</td><td>&hellip;</td><td>&hellip;</td><td>&hellip;</td><td>&hellip;</td><td>&hellip;</td><td>&hellip;</td><td>&hellip;</td></tr><tr><td>&quot;2023-12-31 19:00:00&quot;</td><td>204</td><td>37.572016</td><td>127.005008</td><td>0.003</td><td>0.026</td><td>0.014</td><td>0.5</td><td>26.0</td><td>19.0</td><td>0</td><td>0.003</td><td>0</td></tr><tr><td>&quot;2023-12-31 20:00:00&quot;</td><td>204</td><td>37.572016</td><td>127.005008</td><td>0.003</td><td>0.024</td><td>0.014</td><td>0.4</td><td>27.0</td><td>19.0</td><td>0</td><td>0.003</td><td>0</td></tr><tr><td>&quot;2023-12-31 21:00:00&quot;</td><td>204</td><td>37.572016</td><td>127.005008</td><td>0.003</td><td>0.014</td><td>0.021</td><td>0.4</td><td>23.0</td><td>18.0</td><td>0</td><td>0.003</td><td>0</td></tr><tr><td>&quot;2023-12-31 22:00:00&quot;</td><td>204</td><td>37.572016</td><td>127.005008</td><td>0.003</td><td>0.022</td><td>0.014</td><td>0.5</td><td>20.0</td><td>19.0</td><td>0</td><td>0.003</td><td>0</td></tr><tr><td>&quot;2023-12-31 23:00:00&quot;</td><td>204</td><td>37.572016</td><td>127.005008</td><td>0.004</td><td>0.035</td><td>0.005</td><td>0.5</td><td>20.0</td><td>15.0</td><td>0</td><td>0.004</td><td>0</td></tr></tbody></table></div>"
      ],
      "text/plain": [
       "shape: (25_905, 13)\n",
       "┌────────────┬────────────┬───────────┬────────────┬───┬───────┬───────────┬───────────┬───────────┐\n",
       "│ Measuremen ┆ Station    ┆ Latitude  ┆ Longitude  ┆ … ┆ PM2.5 ┆ Item code ┆ Average   ┆ Instrumen │\n",
       "│ t date     ┆ code       ┆ ---       ┆ ---        ┆   ┆ ---   ┆ ---       ┆ value     ┆ t status  │\n",
       "│ ---        ┆ ---        ┆ f64       ┆ f64        ┆   ┆ f64   ┆ i64       ┆ ---       ┆ ---       │\n",
       "│ str        ┆ i64        ┆           ┆            ┆   ┆       ┆           ┆ f64       ┆ i64       │\n",
       "╞════════════╪════════════╪═══════════╪════════════╪═══╪═══════╪═══════════╪═══════════╪═══════════╡\n",
       "│ 2021-01-01 ┆ 204        ┆ 37.572016 ┆ 127.005008 ┆ … ┆ 57.0  ┆ 0         ┆ 0.004     ┆ 0         │\n",
       "│ 00:00:00   ┆            ┆           ┆            ┆   ┆       ┆           ┆           ┆           │\n",
       "│ 2021-01-01 ┆ 204        ┆ 37.572016 ┆ 127.005008 ┆ … ┆ 59.0  ┆ 0         ┆ 0.004     ┆ 0         │\n",
       "│ 01:00:00   ┆            ┆           ┆            ┆   ┆       ┆           ┆           ┆           │\n",
       "│ 2021-01-01 ┆ 204        ┆ 37.572016 ┆ 127.005008 ┆ … ┆ 59.0  ┆ 0         ┆ 0.004     ┆ 0         │\n",
       "│ 02:00:00   ┆            ┆           ┆            ┆   ┆       ┆           ┆           ┆           │\n",
       "│ 2021-01-01 ┆ 204        ┆ 37.572016 ┆ 127.005008 ┆ … ┆ 58.0  ┆ 0         ┆ 0.004     ┆ 0         │\n",
       "│ 03:00:00   ┆            ┆           ┆            ┆   ┆       ┆           ┆           ┆           │\n",
       "│ 2021-01-01 ┆ 204        ┆ 37.572016 ┆ 127.005008 ┆ … ┆ 61.0  ┆ 0         ┆ 0.003     ┆ 0         │\n",
       "│ 04:00:00   ┆            ┆           ┆            ┆   ┆       ┆           ┆           ┆           │\n",
       "│ …          ┆ …          ┆ …         ┆ …          ┆ … ┆ …     ┆ …         ┆ …         ┆ …         │\n",
       "│ 2023-12-31 ┆ 204        ┆ 37.572016 ┆ 127.005008 ┆ … ┆ 19.0  ┆ 0         ┆ 0.003     ┆ 0         │\n",
       "│ 19:00:00   ┆            ┆           ┆            ┆   ┆       ┆           ┆           ┆           │\n",
       "│ 2023-12-31 ┆ 204        ┆ 37.572016 ┆ 127.005008 ┆ … ┆ 19.0  ┆ 0         ┆ 0.003     ┆ 0         │\n",
       "│ 20:00:00   ┆            ┆           ┆            ┆   ┆       ┆           ┆           ┆           │\n",
       "│ 2023-12-31 ┆ 204        ┆ 37.572016 ┆ 127.005008 ┆ … ┆ 18.0  ┆ 0         ┆ 0.003     ┆ 0         │\n",
       "│ 21:00:00   ┆            ┆           ┆            ┆   ┆       ┆           ┆           ┆           │\n",
       "│ 2023-12-31 ┆ 204        ┆ 37.572016 ┆ 127.005008 ┆ … ┆ 19.0  ┆ 0         ┆ 0.003     ┆ 0         │\n",
       "│ 22:00:00   ┆            ┆           ┆            ┆   ┆       ┆           ┆           ┆           │\n",
       "│ 2023-12-31 ┆ 204        ┆ 37.572016 ┆ 127.005008 ┆ … ┆ 15.0  ┆ 0         ┆ 0.004     ┆ 0         │\n",
       "│ 23:00:00   ┆            ┆           ┆            ┆   ┆       ┆           ┆           ┆           │\n",
       "└────────────┴────────────┴───────────┴────────────┴───┴───────┴───────────┴───────────┴───────────┘"
      ]
     },
     "execution_count": 74,
     "metadata": {},
     "output_type": "execute_result"
    }
   ],
   "source": [
    "measurement.filter(pl.col(\"Station code\") == 204).filter(pl.col(\"Item code\") == 0)"
   ]
  },
  {
   "cell_type": "markdown",
   "metadata": {},
   "source": [
    "## Question 1"
   ]
  },
  {
   "cell_type": "code",
   "execution_count": 75,
   "metadata": {},
   "outputs": [],
   "source": [
    "normal = (\n",
    "    normal\n",
    "    .with_columns(\n",
    "        pl.col(\"Measurement date\").str.to_datetime()\n",
    "    )\n",
    "    .with_columns(\n",
    "        pl.col(\"Measurement date\").dt.day().alias(\"day\"),\n",
    "        pl.col(\"Measurement date\").dt.month().alias(\"month\"),\n",
    "        pl.col(\"Measurement date\").dt.year().alias(\"year\"),\n",
    "    )\n",
    ")"
   ]
  },
  {
   "cell_type": "code",
   "execution_count": 76,
   "metadata": {},
   "outputs": [],
   "source": [
    "instrument = (\n",
    "    instrument\n",
    "    .with_columns(\n",
    "        pl.col(\"Measurement date\").str.to_datetime()\n",
    "    )\n",
    "    .with_columns(\n",
    "        pl.col(\"Measurement date\").dt.day().alias(\"day\"),\n",
    "        pl.col(\"Measurement date\").dt.month().alias(\"month\"),\n",
    "        pl.col(\"Measurement date\").dt.year().alias(\"year\"),\n",
    "    )\n",
    ")"
   ]
  },
  {
   "cell_type": "code",
   "execution_count": 77,
   "metadata": {},
   "outputs": [
    {
     "data": {
      "text/html": [
       "<div><style>\n",
       ".dataframe > thead > tr,\n",
       ".dataframe > tbody > tr {\n",
       "  text-align: right;\n",
       "  white-space: pre-wrap;\n",
       "}\n",
       "</style>\n",
       "<small>shape: (3_703_662, 8)</small><table border=\"1\" class=\"dataframe\"><thead><tr><th>Measurement date</th><th>Station code</th><th>Item code</th><th>Average value</th><th>Instrument status</th><th>day</th><th>month</th><th>year</th></tr><tr><td>datetime[μs]</td><td>i64</td><td>i64</td><td>f64</td><td>i64</td><td>i8</td><td>i8</td><td>i32</td></tr></thead><tbody><tr><td>2021-01-01 00:00:00</td><td>204</td><td>0</td><td>0.004</td><td>0</td><td>1</td><td>1</td><td>2021</td></tr><tr><td>2021-01-01 00:00:00</td><td>204</td><td>2</td><td>0.059</td><td>0</td><td>1</td><td>1</td><td>2021</td></tr><tr><td>2021-01-01 00:00:00</td><td>204</td><td>4</td><td>1.2</td><td>0</td><td>1</td><td>1</td><td>2021</td></tr><tr><td>2021-01-01 00:00:00</td><td>204</td><td>5</td><td>0.002</td><td>0</td><td>1</td><td>1</td><td>2021</td></tr><tr><td>2021-01-01 00:00:00</td><td>204</td><td>7</td><td>73.0</td><td>0</td><td>1</td><td>1</td><td>2021</td></tr><tr><td>&hellip;</td><td>&hellip;</td><td>&hellip;</td><td>&hellip;</td><td>&hellip;</td><td>&hellip;</td><td>&hellip;</td><td>&hellip;</td></tr><tr><td>2023-11-30 23:00:00</td><td>228</td><td>7</td><td>41.0</td><td>0</td><td>30</td><td>11</td><td>2023</td></tr><tr><td>2023-11-30 23:00:00</td><td>228</td><td>5</td><td>0.008</td><td>0</td><td>30</td><td>11</td><td>2023</td></tr><tr><td>2023-11-30 23:00:00</td><td>228</td><td>4</td><td>0.6</td><td>0</td><td>30</td><td>11</td><td>2023</td></tr><tr><td>2023-11-30 23:00:00</td><td>228</td><td>2</td><td>0.045</td><td>0</td><td>30</td><td>11</td><td>2023</td></tr><tr><td>2023-11-30 23:00:00</td><td>228</td><td>0</td><td>0.004</td><td>0</td><td>30</td><td>11</td><td>2023</td></tr></tbody></table></div>"
      ],
      "text/plain": [
       "shape: (3_703_662, 8)\n",
       "┌─────────────────────┬──────────────┬───────────┬───────────────┬────────────┬─────┬───────┬──────┐\n",
       "│ Measurement date    ┆ Station code ┆ Item code ┆ Average value ┆ Instrument ┆ day ┆ month ┆ year │\n",
       "│ ---                 ┆ ---          ┆ ---       ┆ ---           ┆ status     ┆ --- ┆ ---   ┆ ---  │\n",
       "│ datetime[μs]        ┆ i64          ┆ i64       ┆ f64           ┆ ---        ┆ i8  ┆ i8    ┆ i32  │\n",
       "│                     ┆              ┆           ┆               ┆ i64        ┆     ┆       ┆      │\n",
       "╞═════════════════════╪══════════════╪═══════════╪═══════════════╪════════════╪═════╪═══════╪══════╡\n",
       "│ 2021-01-01 00:00:00 ┆ 204          ┆ 0         ┆ 0.004         ┆ 0          ┆ 1   ┆ 1     ┆ 2021 │\n",
       "│ 2021-01-01 00:00:00 ┆ 204          ┆ 2         ┆ 0.059         ┆ 0          ┆ 1   ┆ 1     ┆ 2021 │\n",
       "│ 2021-01-01 00:00:00 ┆ 204          ┆ 4         ┆ 1.2           ┆ 0          ┆ 1   ┆ 1     ┆ 2021 │\n",
       "│ 2021-01-01 00:00:00 ┆ 204          ┆ 5         ┆ 0.002         ┆ 0          ┆ 1   ┆ 1     ┆ 2021 │\n",
       "│ 2021-01-01 00:00:00 ┆ 204          ┆ 7         ┆ 73.0          ┆ 0          ┆ 1   ┆ 1     ┆ 2021 │\n",
       "│ …                   ┆ …            ┆ …         ┆ …             ┆ …          ┆ …   ┆ …     ┆ …    │\n",
       "│ 2023-11-30 23:00:00 ┆ 228          ┆ 7         ┆ 41.0          ┆ 0          ┆ 30  ┆ 11    ┆ 2023 │\n",
       "│ 2023-11-30 23:00:00 ┆ 228          ┆ 5         ┆ 0.008         ┆ 0          ┆ 30  ┆ 11    ┆ 2023 │\n",
       "│ 2023-11-30 23:00:00 ┆ 228          ┆ 4         ┆ 0.6           ┆ 0          ┆ 30  ┆ 11    ┆ 2023 │\n",
       "│ 2023-11-30 23:00:00 ┆ 228          ┆ 2         ┆ 0.045         ┆ 0          ┆ 30  ┆ 11    ┆ 2023 │\n",
       "│ 2023-11-30 23:00:00 ┆ 228          ┆ 0         ┆ 0.004         ┆ 0          ┆ 30  ┆ 11    ┆ 2023 │\n",
       "└─────────────────────┴──────────────┴───────────┴───────────────┴────────────┴─────┴───────┴──────┘"
      ]
     },
     "execution_count": 77,
     "metadata": {},
     "output_type": "execute_result"
    }
   ],
   "source": [
    "instrument"
   ]
  },
  {
   "cell_type": "code",
   "execution_count": 78,
   "metadata": {},
   "outputs": [
    {
     "data": {
      "text/html": [
       "<div><style>\n",
       ".dataframe > thead > tr,\n",
       ".dataframe > tbody > tr {\n",
       "  text-align: right;\n",
       "  white-space: pre-wrap;\n",
       "}\n",
       "</style>\n",
       "<small>shape: (1, 1)</small><table border=\"1\" class=\"dataframe\"><thead><tr><th>Average value</th></tr><tr><td>f64</td></tr></thead><tbody><tr><td>-0.000783</td></tr></tbody></table></div>"
      ],
      "text/plain": [
       "shape: (1, 1)\n",
       "┌───────────────┐\n",
       "│ Average value │\n",
       "│ ---           │\n",
       "│ f64           │\n",
       "╞═══════════════╡\n",
       "│ -0.000783     │\n",
       "└───────────────┘"
      ]
     },
     "execution_count": 78,
     "metadata": {},
     "output_type": "execute_result"
    }
   ],
   "source": [
    "q1 = (\n",
    "    instrument\n",
    "    .filter(pl.col(\"Item code\") == 0)\n",
    "    .select(\"Average value\")\n",
    "    .mean()\n",
    ")\n",
    "q1"
   ]
  },
  {
   "cell_type": "code",
   "execution_count": 79,
   "metadata": {},
   "outputs": [],
   "source": [
    "response_q1 = q1[\"Average value\"].to_list()[0]\n",
    "questions[\"target\"][\"Q1\"] = round(response_q1, 5)"
   ]
  },
  {
   "cell_type": "code",
   "execution_count": 80,
   "metadata": {},
   "outputs": [],
   "source": [
    "q1 = (\n",
    "    normal\n",
    "    .group_by([\"year\", \"month\", \"day\"])\n",
    "    .agg(pl.mean(\"SO2\"))\n",
    "    .select(\"SO2\")\n",
    "    .mean()\n",
    ")\n",
    "response_q1 = q1[\"SO2\"].to_list()[0]\n",
    "#questions[\"target\"][\"Q1\"] = round(response_q1, 5)"
   ]
  },
  {
   "cell_type": "markdown",
   "metadata": {},
   "source": [
    "## Question 2"
   ]
  },
  {
   "cell_type": "code",
   "execution_count": 81,
   "metadata": {},
   "outputs": [],
   "source": [
    "def get_season(date):\n",
    "    month = date.month\n",
    "    if month in [12, 1, 2]:\n",
    "        return 1\n",
    "    elif month in [3, 4, 5]:\n",
    "        return 2\n",
    "    elif month in [6, 7, 8]:\n",
    "        return 3\n",
    "    else:\n",
    "        return 4"
   ]
  },
  {
   "cell_type": "code",
   "execution_count": 82,
   "metadata": {},
   "outputs": [],
   "source": [
    "q2 = (\n",
    "    normal\n",
    "    .filter(pl.col(\"Station code\") == 209)\n",
    "    .with_columns(\n",
    "        pl.col(\"Measurement date\").map_elements(get_season, return_dtype=pl.Int64).alias(\"season\")\n",
    "    )\n",
    "    .group_by(\"season\")\n",
    "    .agg(pl.col(\"CO\").mean())\n",
    ")\n",
    "season_1 = q2.filter(pl.col(\"season\") == 1)[\"CO\"].to_list()[0]\n",
    "season_2 = q2.filter(pl.col(\"season\") == 2)[\"CO\"].to_list()[0]\n",
    "season_3 = q2.filter(pl.col(\"season\") == 3)[\"CO\"].to_list()[0]\n",
    "season_4 = q2.filter(pl.col(\"season\") == 4)[\"CO\"].to_list()[0]\n",
    "questions[\"target\"][\"Q2\"] = {\n",
    "    \"1\" : round(season_1, 5),\n",
    "    \"2\" : round(season_2, 5),\n",
    "    \"3\" : round(season_3, 5),\n",
    "    \"4\" : round(season_4, 5)\n",
    "}"
   ]
  },
  {
   "cell_type": "markdown",
   "metadata": {},
   "source": [
    "## Question 3"
   ]
  },
  {
   "cell_type": "code",
   "execution_count": 83,
   "metadata": {},
   "outputs": [],
   "source": [
    "normal = (\n",
    "    normal\n",
    "   .with_columns(\n",
    "        pl.col(\"Measurement date\").dt.hour().alias(\"hour\")\n",
    "    )\n",
    ")\n",
    "\n",
    "std_per_hour = (\n",
    "    normal\n",
    "    .group_by(\"hour\")\n",
    "    .agg(pl.col(\"O3\").std().alias(\"std_O3\"))\n",
    "    .sort(\"std_O3\", descending=True)\n",
    "    .head(1)\n",
    ")\n",
    "\n",
    "response_3 = std_per_hour[\"hour\"].to_list()[0]\n",
    "questions[\"target\"][\"Q3\"] = round(response_3, 5)"
   ]
  },
  {
   "cell_type": "markdown",
   "metadata": {},
   "source": [
    "## Question 4"
   ]
  },
  {
   "cell_type": "code",
   "execution_count": 84,
   "metadata": {},
   "outputs": [],
   "source": [
    "abnormal = (\n",
    "    measurement\n",
    "    .filter(pl.col(\"Instrument status\") == 2)\n",
    ")\n",
    "q4 = (\n",
    "    abnormal\n",
    "    .group_by(\"Station code\")\n",
    "    .agg(pl.len().alias(\"n_measurements\"))\n",
    "    .sort(by = \"n_measurements\", descending=True)\n",
    "    .head(1)\n",
    ")\n",
    "response_4 = q4[\"Station code\"].to_list()[0]\n",
    "questions[\"target\"][\"Q4\"] = round(response_4, 5)"
   ]
  },
  {
   "cell_type": "markdown",
   "metadata": {},
   "source": [
    "## Question 5"
   ]
  },
  {
   "cell_type": "code",
   "execution_count": 85,
   "metadata": {},
   "outputs": [],
   "source": [
    "not_abnormal = (\n",
    "    measurement\n",
    "    .filter(pl.col(\"Instrument status\") != 0)\n",
    ")\n",
    "\n",
    "q5 = (\n",
    "    not_abnormal\n",
    "    .group_by(\"Station code\")\n",
    "    .agg(pl.len().alias(\"n_measurements\"))\n",
    "    .sort(by = \"n_measurements\", descending=True)\n",
    "    .head(1)\n",
    ")\n",
    "response_5 = q5[\"Station code\"].to_list()[0]\n",
    "questions[\"target\"][\"Q5\"] = round(response_5, 5)"
   ]
  },
  {
   "cell_type": "markdown",
   "metadata": {},
   "source": [
    "## Question 6"
   ]
  },
  {
   "cell_type": "code",
   "execution_count": 86,
   "metadata": {},
   "outputs": [],
   "source": [
    "def obtain_label(measurement: float, very_bad: float, bad: float, normal: float):\n",
    "    if measurement >= very_bad:\n",
    "        return \"Very bad\"\n",
    "    elif  measurement >= bad:\n",
    "        return \"Bad\"\n",
    "    elif  measurement >= normal:\n",
    "        return \"Normal\"\n",
    "    else:\n",
    "        return \"Good\"\n",
    "aux = pollutant.filter(pl.col(\"Item name\") == \"PM2.5\")\n",
    "very_bad = aux[\"Very bad\"].to_list()[0]\n",
    "bad = aux[\"Bad\"].to_list()[0]\n",
    "normal_m = aux[\"Normal\"].to_list()[0]\n",
    "\n",
    "q6 = (\n",
    "    normal\n",
    "    .with_columns(\n",
    "        pl.col(\"PM2.5\").map_elements(lambda x: obtain_label(x, very_bad, bad, normal_m), return_dtype=pl.String).alias(\"Label_PM2.5\")\n",
    "    )\n",
    ")\n",
    "\n",
    "q6 = (\n",
    "    q6\n",
    "    .group_by(\"Label_PM2.5\")\n",
    "    .agg(pl.len().alias(\"N_measurements_PM2.5\"))\n",
    ")\n",
    "\n",
    "questions[\"target\"][\"Q6\"] = {\n",
    "    \"Normal\" : q6.filter(pl.col(\"Label_PM2.5\") == \"Normal\")[\"N_measurements_PM2.5\"].to_list()[0],\n",
    "    \"Bad\" : q6.filter(pl.col(\"Label_PM2.5\") == \"Bad\")[\"N_measurements_PM2.5\"].to_list()[0],\n",
    "    \"Very bad\" : q6.filter(pl.col(\"Label_PM2.5\") == \"Very bad\")[\"N_measurements_PM2.5\"].to_list()[0],\n",
    "    \"Good\" : q6.filter(pl.col(\"Label_PM2.5\") == \"Good\")[\"N_measurements_PM2.5\"].to_list()[0]\n",
    "}"
   ]
  },
  {
   "cell_type": "markdown",
   "metadata": {},
   "source": [
    "## Write the answers"
   ]
  },
  {
   "cell_type": "code",
   "execution_count": 87,
   "metadata": {},
   "outputs": [],
   "source": [
    "import json\n",
    "with open(\"../../predictions/questions.json\", \"w\") as file:\n",
    "    json.dump(questions, file)"
   ]
  }
 ],
 "metadata": {
  "kernelspec": {
   "display_name": "ds",
   "language": "python",
   "name": "python3"
  },
  "language_info": {
   "codemirror_mode": {
    "name": "ipython",
    "version": 3
   },
   "file_extension": ".py",
   "mimetype": "text/x-python",
   "name": "python",
   "nbconvert_exporter": "python",
   "pygments_lexer": "ipython3",
   "version": "3.9.21"
  }
 },
 "nbformat": 4,
 "nbformat_minor": 2
}
