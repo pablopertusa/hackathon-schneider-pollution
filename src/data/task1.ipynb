{
 "cells": [
  {
   "cell_type": "code",
   "execution_count": 1,
   "metadata": {},
   "outputs": [],
   "source": [
    "import polars as pl"
   ]
  },
  {
   "cell_type": "code",
   "execution_count": 2,
   "metadata": {},
   "outputs": [],
   "source": [
    "pollutant = pl.read_csv(\"../../data/raw/pollutant_data.csv\")\n",
    "measurement = pl.read_csv(\"../../data/raw/measurement_data.csv\")\n",
    "instrument = pl.read_csv(\"../../data/raw/instrument_data.csv\")"
   ]
  },
  {
   "cell_type": "code",
   "execution_count": 3,
   "metadata": {},
   "outputs": [],
   "source": [
    "questions = {\n",
    "    \"target\": {\n",
    "    }\n",
    "}"
   ]
  },
  {
   "cell_type": "code",
   "execution_count": 4,
   "metadata": {},
   "outputs": [],
   "source": [
    "measurement = measurement.join(instrument, on=[\"Measurement date\", \"Station code\"])\n",
    "measurement = measurement.filter(pl.col(\"Instrument status\") == 0)"
   ]
  },
  {
   "cell_type": "markdown",
   "metadata": {},
   "source": [
    "## Question 1"
   ]
  },
  {
   "cell_type": "code",
   "execution_count": 5,
   "metadata": {},
   "outputs": [
    {
     "data": {
      "text/html": [
       "<div><style>\n",
       ".dataframe > thead > tr,\n",
       ".dataframe > tbody > tr {\n",
       "  text-align: right;\n",
       "  white-space: pre-wrap;\n",
       "}\n",
       "</style>\n",
       "<small>shape: (5, 13)</small><table border=\"1\" class=\"dataframe\"><thead><tr><th>Measurement date</th><th>Station code</th><th>Latitude</th><th>Longitude</th><th>SO2</th><th>NO2</th><th>O3</th><th>CO</th><th>PM10</th><th>PM2.5</th><th>Item code</th><th>Average value</th><th>Instrument status</th></tr><tr><td>str</td><td>i64</td><td>f64</td><td>f64</td><td>f64</td><td>f64</td><td>f64</td><td>f64</td><td>f64</td><td>f64</td><td>i64</td><td>f64</td><td>i64</td></tr></thead><tbody><tr><td>&quot;2021-01-01 00:00:00&quot;</td><td>204</td><td>37.572016</td><td>127.005008</td><td>0.004</td><td>0.059</td><td>0.002</td><td>1.2</td><td>73.0</td><td>57.0</td><td>0</td><td>0.004</td><td>0</td></tr><tr><td>&quot;2021-01-01 00:00:00&quot;</td><td>204</td><td>37.572016</td><td>127.005008</td><td>0.004</td><td>0.059</td><td>0.002</td><td>1.2</td><td>73.0</td><td>57.0</td><td>2</td><td>0.059</td><td>0</td></tr><tr><td>&quot;2021-01-01 00:00:00&quot;</td><td>204</td><td>37.572016</td><td>127.005008</td><td>0.004</td><td>0.059</td><td>0.002</td><td>1.2</td><td>73.0</td><td>57.0</td><td>4</td><td>1.2</td><td>0</td></tr><tr><td>&quot;2021-01-01 00:00:00&quot;</td><td>204</td><td>37.572016</td><td>127.005008</td><td>0.004</td><td>0.059</td><td>0.002</td><td>1.2</td><td>73.0</td><td>57.0</td><td>5</td><td>0.002</td><td>0</td></tr><tr><td>&quot;2021-01-01 00:00:00&quot;</td><td>204</td><td>37.572016</td><td>127.005008</td><td>0.004</td><td>0.059</td><td>0.002</td><td>1.2</td><td>73.0</td><td>57.0</td><td>7</td><td>73.0</td><td>0</td></tr></tbody></table></div>"
      ],
      "text/plain": [
       "shape: (5, 13)\n",
       "┌────────────┬────────────┬───────────┬────────────┬───┬───────┬───────────┬───────────┬───────────┐\n",
       "│ Measuremen ┆ Station    ┆ Latitude  ┆ Longitude  ┆ … ┆ PM2.5 ┆ Item code ┆ Average   ┆ Instrumen │\n",
       "│ t date     ┆ code       ┆ ---       ┆ ---        ┆   ┆ ---   ┆ ---       ┆ value     ┆ t status  │\n",
       "│ ---        ┆ ---        ┆ f64       ┆ f64        ┆   ┆ f64   ┆ i64       ┆ ---       ┆ ---       │\n",
       "│ str        ┆ i64        ┆           ┆            ┆   ┆       ┆           ┆ f64       ┆ i64       │\n",
       "╞════════════╪════════════╪═══════════╪════════════╪═══╪═══════╪═══════════╪═══════════╪═══════════╡\n",
       "│ 2021-01-01 ┆ 204        ┆ 37.572016 ┆ 127.005008 ┆ … ┆ 57.0  ┆ 0         ┆ 0.004     ┆ 0         │\n",
       "│ 00:00:00   ┆            ┆           ┆            ┆   ┆       ┆           ┆           ┆           │\n",
       "│ 2021-01-01 ┆ 204        ┆ 37.572016 ┆ 127.005008 ┆ … ┆ 57.0  ┆ 2         ┆ 0.059     ┆ 0         │\n",
       "│ 00:00:00   ┆            ┆           ┆            ┆   ┆       ┆           ┆           ┆           │\n",
       "│ 2021-01-01 ┆ 204        ┆ 37.572016 ┆ 127.005008 ┆ … ┆ 57.0  ┆ 4         ┆ 1.2       ┆ 0         │\n",
       "│ 00:00:00   ┆            ┆           ┆            ┆   ┆       ┆           ┆           ┆           │\n",
       "│ 2021-01-01 ┆ 204        ┆ 37.572016 ┆ 127.005008 ┆ … ┆ 57.0  ┆ 5         ┆ 0.002     ┆ 0         │\n",
       "│ 00:00:00   ┆            ┆           ┆            ┆   ┆       ┆           ┆           ┆           │\n",
       "│ 2021-01-01 ┆ 204        ┆ 37.572016 ┆ 127.005008 ┆ … ┆ 57.0  ┆ 7         ┆ 73.0      ┆ 0         │\n",
       "│ 00:00:00   ┆            ┆           ┆            ┆   ┆       ┆           ┆           ┆           │\n",
       "└────────────┴────────────┴───────────┴────────────┴───┴───────┴───────────┴───────────┴───────────┘"
      ]
     },
     "execution_count": 5,
     "metadata": {},
     "output_type": "execute_result"
    }
   ],
   "source": [
    "measurement.head()"
   ]
  },
  {
   "cell_type": "code",
   "execution_count": 6,
   "metadata": {},
   "outputs": [],
   "source": [
    "measurement = (\n",
    "    measurement\n",
    "    .with_columns(\n",
    "        pl.col(\"Measurement date\").str.to_datetime()\n",
    "    )\n",
    "    .with_columns(\n",
    "        pl.col(\"Measurement date\").dt.day().alias(\"day\"),\n",
    "        pl.col(\"Measurement date\").dt.month().alias(\"month\"),\n",
    "        pl.col(\"Measurement date\").dt.year().alias(\"year\"),\n",
    "    )\n",
    ")"
   ]
  },
  {
   "cell_type": "code",
   "execution_count": 7,
   "metadata": {},
   "outputs": [],
   "source": [
    "q1 = (\n",
    "    measurement\n",
    "    .group_by([\"year\", \"month\", \"day\"])\n",
    "    .agg(pl.mean(\"SO2\"))\n",
    "    .select(\"SO2\")\n",
    "    .mean()\n",
    ")\n",
    "response_q1 = q1[\"SO2\"].to_list()[0]\n",
    "questions[\"target\"][\"Q1\"] = round(response_q1, 5)"
   ]
  },
  {
   "cell_type": "markdown",
   "metadata": {},
   "source": [
    "## Question 2"
   ]
  },
  {
   "cell_type": "code",
   "execution_count": 8,
   "metadata": {},
   "outputs": [],
   "source": [
    "def get_season(date):\n",
    "    month = date.month\n",
    "    if month in [12, 1, 2]:\n",
    "        return 1\n",
    "    elif month in [3, 4, 5]:\n",
    "        return 2\n",
    "    elif month in [6, 7, 8]:\n",
    "        return 3\n",
    "    else:\n",
    "        return 4"
   ]
  },
  {
   "cell_type": "code",
   "execution_count": 9,
   "metadata": {},
   "outputs": [],
   "source": [
    "q2 = (\n",
    "    measurement\n",
    "    .filter(pl.col(\"Station code\") == 209)\n",
    "    .with_columns(\n",
    "        pl.col(\"Measurement date\").map_elements(get_season, return_dtype=pl.Int64).alias(\"season\")\n",
    "    )\n",
    "    .group_by(\"season\")\n",
    "    .agg(pl.col(\"CO\").mean())\n",
    ")\n",
    "season_1 = q2.filter(pl.col(\"season\") == 1)[\"CO\"].to_list()[0]\n",
    "season_2 = q2.filter(pl.col(\"season\") == 2)[\"CO\"].to_list()[0]\n",
    "season_3 = q2.filter(pl.col(\"season\") == 3)[\"CO\"].to_list()[0]\n",
    "season_4 = q2.filter(pl.col(\"season\") == 4)[\"CO\"].to_list()[0]\n",
    "questions[\"target\"][\"Q2\"] = {\n",
    "    \"1\" : round(season_1, 5),\n",
    "    \"2\" : round(season_2, 5),\n",
    "    \"3\" : round(season_3, 5),\n",
    "    \"4\" : round(season_4, 5)\n",
    "}"
   ]
  },
  {
   "cell_type": "markdown",
   "metadata": {},
   "source": [
    "## Question 3"
   ]
  },
  {
   "cell_type": "code",
   "execution_count": 10,
   "metadata": {},
   "outputs": [],
   "source": [
    "measurement = (\n",
    "    measurement\n",
    "   .with_columns(\n",
    "        pl.col(\"Measurement date\").dt.hour().alias(\"hour\")\n",
    "    )\n",
    ")\n",
    "\n",
    "std_per_hour = (\n",
    "    measurement\n",
    "    .group_by(\"hour\")\n",
    "    .agg(pl.col(\"O3\").std().alias(\"std_O3\"))\n",
    "    .sort(\"std_O3\", descending=True)\n",
    "    .head(1)\n",
    ")\n",
    "\n",
    "response_3 = std_per_hour[\"hour\"].to_list()[0]\n",
    "questions[\"target\"][\"Q3\"] = round(response_3, 5)"
   ]
  },
  {
   "cell_type": "markdown",
   "metadata": {},
   "source": [
    "## Write the answers"
   ]
  },
  {
   "cell_type": "code",
   "execution_count": 11,
   "metadata": {},
   "outputs": [],
   "source": [
    "import json\n",
    "with open(\"../../predictions/questions.json\", \"w\") as file:\n",
    "    json.dump(questions, file)"
   ]
  }
 ],
 "metadata": {
  "kernelspec": {
   "display_name": "ds",
   "language": "python",
   "name": "python3"
  },
  "language_info": {
   "codemirror_mode": {
    "name": "ipython",
    "version": 3
   },
   "file_extension": ".py",
   "mimetype": "text/x-python",
   "name": "python",
   "nbconvert_exporter": "python",
   "pygments_lexer": "ipython3",
   "version": "3.9.21"
  }
 },
 "nbformat": 4,
 "nbformat_minor": 2
}
